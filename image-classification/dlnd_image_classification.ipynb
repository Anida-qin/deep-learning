{
 "cells": [
  {
   "cell_type": "markdown",
   "metadata": {
    "collapsed": true
   },
   "source": [
    "# Image Classification\n",
    "In this project, you'll classify images from the [CIFAR-10 dataset](https://www.cs.toronto.edu/~kriz/cifar.html).  The dataset consists of airplanes, dogs, cats, and other objects. You'll preprocess the images, then train a convolutional neural network on all the samples. The images need to be normalized and the labels need to be one-hot encoded.  You'll get to apply what you learned and build a convolutional, max pooling, dropout, and fully connected layers.  At the end, you'll get to see your neural network's predictions on the sample images.\n",
    "## Get the Data\n",
    "Run the following cell to download the [CIFAR-10 dataset for python](https://www.cs.toronto.edu/~kriz/cifar-10-python.tar.gz)."
   ]
  },
  {
   "cell_type": "code",
   "execution_count": 1,
   "metadata": {},
   "outputs": [
    {
     "name": "stdout",
     "output_type": "stream",
     "text": [
      "All files found!\n"
     ]
    }
   ],
   "source": [
    "\"\"\"\n",
    "DON'T MODIFY ANYTHING IN THIS CELL THAT IS BELOW THIS LINE\n",
    "\"\"\"\n",
    "from urllib.request import urlretrieve\n",
    "from os.path import isfile, isdir\n",
    "from tqdm import tqdm\n",
    "import problem_unittests as tests\n",
    "import tarfile\n",
    "\n",
    "cifar10_dataset_folder_path = 'cifar-10-batches-py'\n",
    "\n",
    "# Use Floyd's cifar-10 dataset if present\n",
    "floyd_cifar10_location = '/input/cifar-10/python.tar.gz'\n",
    "if isfile(floyd_cifar10_location):\n",
    "    tar_gz_path = floyd_cifar10_location\n",
    "else:\n",
    "    tar_gz_path = 'cifar-10-python.tar.gz'\n",
    "\n",
    "class DLProgress(tqdm):\n",
    "    last_block = 0\n",
    "\n",
    "    def hook(self, block_num=1, block_size=1, total_size=None):\n",
    "        self.total = total_size\n",
    "        self.update((block_num - self.last_block) * block_size)\n",
    "        self.last_block = block_num\n",
    "\n",
    "if not isfile(tar_gz_path):\n",
    "    with DLProgress(unit='B', unit_scale=True, miniters=1, desc='CIFAR-10 Dataset') as pbar:\n",
    "        urlretrieve(\n",
    "            'https://www.cs.toronto.edu/~kriz/cifar-10-python.tar.gz',\n",
    "            tar_gz_path,\n",
    "            pbar.hook)\n",
    "\n",
    "if not isdir(cifar10_dataset_folder_path):\n",
    "    with tarfile.open(tar_gz_path) as tar:\n",
    "        tar.extractall()\n",
    "        tar.close()\n",
    "\n",
    "\n",
    "tests.test_folder_path(cifar10_dataset_folder_path)"
   ]
  },
  {
   "cell_type": "markdown",
   "metadata": {},
   "source": [
    "## Explore the Data\n",
    "The dataset is broken into batches to prevent your machine from running out of memory.  The CIFAR-10 dataset consists of 5 batches, named `data_batch_1`, `data_batch_2`, etc.. Each batch contains the labels and images that are one of the following:\n",
    "* airplane\n",
    "* automobile\n",
    "* bird\n",
    "* cat\n",
    "* deer\n",
    "* dog\n",
    "* frog\n",
    "* horse\n",
    "* ship\n",
    "* truck\n",
    "\n",
    "Understanding a dataset is part of making predictions on the data.  Play around with the code cell below by changing the `batch_id` and `sample_id`. The `batch_id` is the id for a batch (1-5). The `sample_id` is the id for a image and label pair in the batch.\n",
    "\n",
    "Ask yourself \"What are all possible labels?\", \"What is the range of values for the image data?\", \"Are the labels in order or random?\".  Answers to questions like these will help you preprocess the data and end up with better predictions."
   ]
  },
  {
   "cell_type": "code",
   "execution_count": 2,
   "metadata": {},
   "outputs": [
    {
     "name": "stdout",
     "output_type": "stream",
     "text": [
      "\n",
      "Stats of batch 1:\n",
      "Samples: 10000\n",
      "Label Counts: {0: 1005, 1: 974, 2: 1032, 3: 1016, 4: 999, 5: 937, 6: 1030, 7: 1001, 8: 1025, 9: 981}\n",
      "First 20 Labels: [6, 9, 9, 4, 1, 1, 2, 7, 8, 3, 4, 7, 7, 2, 9, 9, 9, 3, 2, 6]\n",
      "\n",
      "Example of Image 5:\n",
      "Image - Min Value: 0 Max Value: 252\n",
      "Image - Shape: (32, 32, 3)\n",
      "Label - Label Id: 1 Name: automobile\n"
     ]
    },
    {
     "data": {
      "image/png": "[encoded data removed]",
      "text/plain": [
       "<matplotlib.figure.Figure at 0x7f6eadb2da58>"
      ]
     },
     "metadata": {
      "image/png": {
       "height": 250,
       "width": 253
      }
     },
     "output_type": "display_data"
    }
   ],
   "source": [
    "%matplotlib inline\n",
    "%config InlineBackend.figure_format = 'retina'\n",
    "\n",
    "import helper\n",
    "import numpy as np\n",
    "\n",
    "# Explore the dataset\n",
    "batch_id = 1\n",
    "sample_id = 5\n",
    "helper.display_stats(cifar10_dataset_folder_path, batch_id, sample_id)"
   ]
  },
  {
   "cell_type": "markdown",
   "metadata": {},
   "source": [
    "## Implement Preprocess Functions\n",
    "### Normalize\n",
    "In the cell below, implement the `normalize` function to take in image data, `x`, and return it as a normalized Numpy array. The values should be in the range of 0 to 1, inclusive.  The return object should be the same shape as `x`."
   ]
  },
  {
   "cell_type": "code",
   "execution_count": 3,
   "metadata": {},
   "outputs": [
    {
     "name": "stdout",
     "output_type": "stream",
     "text": [
      "Tests Passed\n"
     ]
    }
   ],
   "source": [
    "def normalize(x):\n",
    "    \"\"\"\n",
    "    Normalize a list of sample image data in the range of 0 to 1\n",
    "    : x: List of image data.  The image shape is (32, 32, 3)\n",
    "    : return: Numpy array of normalize data\n",
    "    \"\"\"\n",
    "    # TODO: Implement Function\n",
    "    min_v = np.min(x)\n",
    "    max_v = np.max(x)\n",
    "    norm_x = (x - min_v)/(max_v - min_v)\n",
    "    return norm_x\n",
    "\n",
    "\n",
    "\"\"\"\n",
    "DON'T MODIFY ANYTHING IN THIS CELL THAT IS BELOW THIS LINE\n",
    "\"\"\"\n",
    "tests.test_normalize(normalize)"
   ]
  },
  {
   "cell_type": "markdown",
   "metadata": {},
   "source": [
    "### One-hot encode\n",
    "Just like the previous code cell, you'll be implementing a function for preprocessing.  This time, you'll implement the `one_hot_encode` function. The input, `x`, are a list of labels.  Implement the function to return the list of labels as One-Hot encoded Numpy array.  The possible values for labels are 0 to 9. The one-hot encoding function should return the same encoding for each value between each call to `one_hot_encode`.  Make sure to save the map of encodings outside the function.\n",
    "\n",
    "Hint: Don't reinvent the wheel."
   ]
  },
  {
   "cell_type": "code",
   "execution_count": 4,
   "metadata": {},
   "outputs": [
    {
     "name": "stdout",
     "output_type": "stream",
     "text": [
      "Tests Passed\n"
     ]
    }
   ],
   "source": [
    "def one_hot_encode(x):\n",
    "    \"\"\"\n",
    "    One hot encode a list of sample labels. Return a one-hot encoded vector for each label.\n",
    "    : x: List of sample Labels\n",
    "    : return: Numpy array of one-hot encoded labels\n",
    "    \"\"\"\n",
    "    # TODO: Implement Function\n",
    "    one_hot_x = np.zeros([len(x),10])\n",
    "    one_hot_x[range(len(x)),x] = 1\n",
    "    return one_hot_x\n",
    "\n",
    "\n",
    "\"\"\"\n",
    "DON'T MODIFY ANYTHING IN THIS CELL THAT IS BELOW THIS LINE\n",
    "\"\"\"\n",
    "tests.test_one_hot_encode(one_hot_encode)"
   ]
  },
  {
   "cell_type": "markdown",
   "metadata": {},
   "source": [
    "### Randomize Data\n",
    "As you saw from exploring the data above, the order of the samples are randomized.  It doesn't hurt to randomize it again, but you don't need to for this dataset."
   ]
  },
  {
   "cell_type": "markdown",
   "metadata": {},
   "source": [
    "## Preprocess all the data and save it\n",
    "Running the code cell below will preprocess all the CIFAR-10 data and save it to file. The code below also uses 10% of the training data for validation."
   ]
  },
  {
   "cell_type": "code",
   "execution_count": 5,
   "metadata": {
    "collapsed": true
   },
   "outputs": [],
   "source": [
    "\"\"\"\n",
    "DON'T MODIFY ANYTHING IN THIS CELL\n",
    "\"\"\"\n",
    "# Preprocess Training, Validation, and Testing Data\n",
    "helper.preprocess_and_save_data(cifar10_dataset_folder_path, normalize, one_hot_encode)"
   ]
  },
  {
   "cell_type": "markdown",
   "metadata": {},
   "source": [
    "# Check Point\n",
    "This is your first checkpoint.  If you ever decide to come back to this notebook or have to restart the notebook, you can start from here.  The preprocessed data has been saved to disk."
   ]
  },
  {
   "cell_type": "code",
   "execution_count": 6,
   "metadata": {
    "collapsed": true
   },
   "outputs": [],
   "source": [
    "\"\"\"\n",
    "DON'T MODIFY ANYTHING IN THIS CELL\n",
    "\"\"\"\n",
    "import pickle\n",
    "import problem_unittests as tests\n",
    "import helper\n",
    "\n",
    "# Load the Preprocessed Validation data\n",
    "valid_features, valid_labels = pickle.load(open('preprocess_validation.p', mode='rb'))"
   ]
  },
  {
   "cell_type": "markdown",
   "metadata": {},
   "source": [
    "## Build the network\n",
    "For the neural network, you'll build each layer into a function.  Most of the code you've seen has been outside of functions. To test your code more thoroughly, we require that you put each layer in a function.  This allows us to give you better feedback and test for simple mistakes using our unittests before you submit your project.\n",
    "\n",
    ">**Note:** If you're finding it hard to dedicate enough time for this course each week, we've provided a small shortcut to this part of the project. In the next couple of problems, you'll have the option to use classes from the [TensorFlow Layers](https://www.tensorflow.org/api_docs/python/tf/layers) or [TensorFlow Layers (contrib)](https://www.tensorflow.org/api_guides/python/contrib.layers) packages to build each layer, except the layers you build in the \"Convolutional and Max Pooling Layer\" section.  TF Layers is similar to Keras's and TFLearn's abstraction to layers, so it's easy to pickup.\n",
    "\n",
    ">However, if you would like to get the most out of this course, try to solve all the problems _without_ using anything from the TF Layers packages. You **can** still use classes from other packages that happen to have the same name as ones you find in TF Layers! For example, instead of using the TF Layers version of the `conv2d` class, [tf.layers.conv2d](https://www.tensorflow.org/api_docs/python/tf/layers/conv2d), you would want to use the TF Neural Network version of `conv2d`, [tf.nn.conv2d](https://www.tensorflow.org/api_docs/python/tf/nn/conv2d). \n",
    "\n",
    "Let's begin!\n",
    "\n",
    "### Input\n",
    "The neural network needs to read the image data, one-hot encoded labels, and dropout keep probability. Implement the following functions\n",
    "* Implement `neural_net_image_input`\n",
    " * Return a [TF Placeholder](https://www.tensorflow.org/api_docs/python/tf/placeholder)\n",
    " * Set the shape using `image_shape` with batch size set to `None`.\n",
    " * Name the TensorFlow placeholder \"x\" using the TensorFlow `name` parameter in the [TF Placeholder](https://www.tensorflow.org/api_docs/python/tf/placeholder).\n",
    "* Implement `neural_net_label_input`\n",
    " * Return a [TF Placeholder](https://www.tensorflow.org/api_docs/python/tf/placeholder)\n",
    " * Set the shape using `n_classes` with batch size set to `None`.\n",
    " * Name the TensorFlow placeholder \"y\" using the TensorFlow `name` parameter in the [TF Placeholder](https://www.tensorflow.org/api_docs/python/tf/placeholder).\n",
    "* Implement `neural_net_keep_prob_input`\n",
    " * Return a [TF Placeholder](https://www.tensorflow.org/api_docs/python/tf/placeholder) for dropout keep probability.\n",
    " * Name the TensorFlow placeholder \"keep_prob\" using the TensorFlow `name` parameter in the [TF Placeholder](https://www.tensorflow.org/api_docs/python/tf/placeholder).\n",
    "\n",
    "These names will be used at the end of the project to load your saved model.\n",
    "\n",
    "Note: `None` for shapes in TensorFlow allow for a dynamic size."
   ]
  },
  {
   "cell_type": "code",
   "execution_count": 10,
   "metadata": {},
   "outputs": [
    {
     "name": "stdout",
     "output_type": "stream",
     "text": [
      "32 32 3\n",
      "Image Input Tests Passed.\n",
      "Label Input Tests Passed.\n",
      "Keep Prob Tests Passed.\n"
     ]
    }
   ],
   "source": [
    "import tensorflow as tf\n",
    "\n",
    "def neural_net_image_input(image_shape):\n",
    "    \"\"\"\n",
    "    Return a Tensor for a bach of image input\n",
    "    : image_shape: Shape of the images\n",
    "    : return: Tensor for image input.\n",
    "    \"\"\"\n",
    "    # TODO: Implement Function\n",
    "    print(*image_shape)\n",
    "    #return tf.placeholder(tf.float32,[None, image_shape[0], image_shape[1], image_shape[2]], name='x')\n",
    "    return tf.placeholder(tf.float32,[None,*image_shape], name='x')\n",
    "\n",
    "\n",
    "def neural_net_label_input(n_classes):\n",
    "    \"\"\"\n",
    "    Return a Tensor for a batch of label input\n",
    "    : n_classes: Number of classes\n",
    "    : return: Tensor for label input.\n",
    "    \"\"\"\n",
    "    # TODO: Implement Function\n",
    "    return tf.placeholder(tf.float32, [None,n_classes], name='y')\n",
    "\n",
    "\n",
    "def neural_net_keep_prob_input():\n",
    "    \"\"\"\n",
    "    Return a Tensor for keep probability\n",
    "    : return: Tensor for keep probability.\n",
    "    \"\"\"\n",
    "    # TODO: Implement Function\n",
    "    return tf.placeholder(tf.float32,name='keep_prob')\n",
    "\n",
    "\n",
    "\"\"\"\n",
    "DON'T MODIFY ANYTHING IN THIS CELL THAT IS BELOW THIS LINE\n",
    "\"\"\"\n",
    "tf.reset_default_graph()\n",
    "tests.test_nn_image_inputs(neural_net_image_input)\n",
    "tests.test_nn_label_inputs(neural_net_label_input)\n",
    "tests.test_nn_keep_prob_inputs(neural_net_keep_prob_input)"
   ]
  },
  {
   "cell_type": "markdown",
   "metadata": {},
   "source": [
    "### Convolution and Max Pooling Layer\n",
    "Convolution layers have a lot of success with images. For this code cell, you should implement the function `conv2d_maxpool` to apply convolution then max pooling:\n",
    "* Create the weight and bias using `conv_ksize`, `conv_num_outputs` and the shape of `x_tensor`.\n",
    "* Apply a convolution to `x_tensor` using weight and `conv_strides`.\n",
    " * We recommend you use same padding, but you're welcome to use any padding.\n",
    "* Add bias\n",
    "* Add a nonlinear activation to the convolution.\n",
    "* Apply Max Pooling using `pool_ksize` and `pool_strides`.\n",
    " * We recommend you use same padding, but you're welcome to use any padding.\n",
    "\n",
    "**Note:** You **can't** use [TensorFlow Layers](https://www.tensorflow.org/api_docs/python/tf/layers) or [TensorFlow Layers (contrib)](https://www.tensorflow.org/api_guides/python/contrib.layers) for **this** layer, but you can still use TensorFlow's [Neural Network](https://www.tensorflow.org/api_docs/python/tf/nn) package. You may still use the shortcut option for all the **other** layers."
   ]
  },
  {
   "cell_type": "code",
   "execution_count": 44,
   "metadata": {},
   "outputs": [
    {
     "name": "stdout",
     "output_type": "stream",
     "text": [
      "Tests Passed\n"
     ]
    }
   ],
   "source": [
    "def conv2d_maxpool(x_tensor, conv_num_outputs, conv_ksize, conv_strides, pool_ksize, pool_strides):\n",
    "    \"\"\"\n",
    "    Apply convolution then max pooling to x_tensor\n",
    "    :param x_tensor: TensorFlow Tensor\n",
    "    :param conv_num_outputs: Number of outputs for the convolutional layer\n",
    "    :param conv_ksize: kernal size 2-D Tuple for the convolutional layer\n",
    "    :param conv_strides: Stride 2-D Tuple for convolution\n",
    "    :param pool_ksize: kernal size 2-D Tuple for pool\n",
    "    :param pool_strides: Stride 2-D Tuple for pool\n",
    "    : return: A tensor that represents convolution and max pooling of x_tensor\n",
    "    \"\"\"\n",
    "    # TODO: Implement Function\n",
    "    # convolution\n",
    "    input_shape = x_tensor.get_shape().as_list()\n",
    "    filter_conv = [conv_ksize[0], conv_ksize[1], input_shape[-1], conv_num_outputs]\n",
    "    stride_conv = [1, conv_strides[0], conv_strides[1], 1]\n",
    "   \n",
    "    # init \n",
    "    conv_weight = tf.Variable(tf.truncated_normal(filter_conv,stddev=0.1))\n",
    "    conv_bias = tf.Variable(tf.zeros(conv_num_outputs))\n",
    "    \n",
    "    # calculate\n",
    "    conv = tf.nn.conv2d(x_tensor, conv_weight, stride_conv, padding='VALID')\n",
    "    relu = tf.nn.relu(tf.nn.bias_add(conv,conv_bias))\n",
    "    \n",
    "    # maxpool\n",
    "    ksize = [1, pool_ksize[0], pool_ksize[1], 1]\n",
    "    strides = [1, pool_strides[0], pool_strides[1], 1]\n",
    "    pool = tf.nn.max_pool(relu, ksize, strides, padding='SAME')\n",
    "    \n",
    "    return pool\n",
    "\n",
    "\n",
    "\"\"\"\n",
    "DON'T MODIFY ANYTHING IN THIS CELL THAT IS BELOW THIS LINE\n",
    "\"\"\"\n",
    "tests.test_con_pool(conv2d_maxpool)"
   ]
  },
  {
   "cell_type": "markdown",
   "metadata": {},
   "source": [
    "### Flatten Layer\n",
    "Implement the `flatten` function to change the dimension of `x_tensor` from a 4-D tensor to a 2-D tensor.  The output should be the shape (*Batch Size*, *Flattened Image Size*). Shortcut option: you can use classes from the [TensorFlow Layers](https://www.tensorflow.org/api_docs/python/tf/layers) or [TensorFlow Layers (contrib)](https://www.tensorflow.org/api_guides/python/contrib.layers) packages for this layer. For more of a challenge, only use other TensorFlow packages."
   ]
  },
  {
   "cell_type": "code",
   "execution_count": 12,
   "metadata": {},
   "outputs": [
    {
     "name": "stdout",
     "output_type": "stream",
     "text": [
      "Tests Passed\n"
     ]
    }
   ],
   "source": [
    "def flatten(x_tensor):\n",
    "    \"\"\"\n",
    "    Flatten x_tensor to (Batch Size, Flattened Image Size)\n",
    "    : x_tensor: A tensor of size (Batch Size, ...), where ... are the image dimensions.\n",
    "    : return: A tensor of size (Batch Size, Flattened Image Size).\n",
    "    \"\"\"\n",
    "    # TODO: Implement Function\n",
    "    input_shape = x_tensor.get_shape().as_list()\n",
    "    flatten_shape = input_shape[1]*input_shape[2]*input_shape[3]\n",
    "    return tf.reshape(x_tensor, [-1, flatten_shape])\n",
    "\n",
    "\n",
    "\"\"\"\n",
    "DON'T MODIFY ANYTHING IN THIS CELL THAT IS BELOW THIS LINE\n",
    "\"\"\"\n",
    "tests.test_flatten(flatten)"
   ]
  },
  {
   "cell_type": "markdown",
   "metadata": {},
   "source": [
    "### Fully-Connected Layer\n",
    "Implement the `fully_conn` function to apply a fully connected layer to `x_tensor` with the shape (*Batch Size*, *num_outputs*). Shortcut option: you can use classes from the [TensorFlow Layers](https://www.tensorflow.org/api_docs/python/tf/layers) or [TensorFlow Layers (contrib)](https://www.tensorflow.org/api_guides/python/contrib.layers) packages for this layer. For more of a challenge, only use other TensorFlow packages."
   ]
  },
  {
   "cell_type": "code",
   "execution_count": 13,
   "metadata": {},
   "outputs": [
    {
     "name": "stdout",
     "output_type": "stream",
     "text": [
      "Tests Passed\n"
     ]
    }
   ],
   "source": [
    "def fully_conn(x_tensor, num_outputs):\n",
    "    \"\"\"\n",
    "    Apply a fully connected layer to x_tensor using weight and bias\n",
    "    : x_tensor: A 2-D tensor where the first dimension is batch size.\n",
    "    : num_outputs: The number of output that the new tensor should be.\n",
    "    : return: A 2-D tensor where the second dimension is num_outputs.\n",
    "    \"\"\"\n",
    "    # TODO: Implement Function\n",
    "    input_shape = x_tensor.get_shape().as_list()\n",
    "    weight = tf.Variable(tf.truncated_normal([input_shape[-1], num_outputs],stddev=0.1))\n",
    "    bias = tf.Variable(tf.zeros(num_outputs))\n",
    "    fc = tf.add(tf.matmul(x_tensor,weight), bias)\n",
    "    fc = tf.nn.relu(fc)\n",
    "    return fc\n",
    "\n",
    "\n",
    "\"\"\"\n",
    "DON'T MODIFY ANYTHING IN THIS CELL THAT IS BELOW THIS LINE\n",
    "\"\"\"\n",
    "tests.test_fully_conn(fully_conn)"
   ]
  },
  {
   "cell_type": "markdown",
   "metadata": {},
   "source": [
    "### Output Layer\n",
    "Implement the `output` function to apply a fully connected layer to `x_tensor` with the shape (*Batch Size*, *num_outputs*). Shortcut option: you can use classes from the [TensorFlow Layers](https://www.tensorflow.org/api_docs/python/tf/layers) or [TensorFlow Layers (contrib)](https://www.tensorflow.org/api_guides/python/contrib.layers) packages for this layer. For more of a challenge, only use other TensorFlow packages.\n",
    "\n",
    "**Note:** Activation, softmax, or cross entropy should **not** be applied to this."
   ]
  },
  {
   "cell_type": "code",
   "execution_count": 14,
   "metadata": {},
   "outputs": [
    {
     "name": "stdout",
     "output_type": "stream",
     "text": [
      "Tests Passed\n"
     ]
    }
   ],
   "source": [
    "def output(x_tensor, num_outputs):\n",
    "    \"\"\"\n",
    "    Apply a output layer to x_tensor using weight and bias\n",
    "    : x_tensor: A 2-D tensor where the first dimension is batch size.\n",
    "    : num_outputs: The number of output that the new tensor should be.\n",
    "    : return: A 2-D tensor where the second dimension is num_outputs.\n",
    "    \"\"\"\n",
    "    # TODO: Implement Function\n",
    "    input_shape = x_tensor.get_shape().as_list()\n",
    "    weight = tf.Variable(tf.truncated_normal([input_shape[-1], num_outputs],stddev=0.1))\n",
    "    bias = tf.Variable(tf.zeros(num_outputs))\n",
    "    out = tf.add(tf.matmul(x_tensor,weight),bias)\n",
    "    return out\n",
    "\n",
    "\n",
    "\"\"\"\n",
    "DON'T MODIFY ANYTHING IN THIS CELL THAT IS BELOW THIS LINE\n",
    "\"\"\"\n",
    "tests.test_output(output)"
   ]
  },
  {
   "cell_type": "markdown",
   "metadata": {},
   "source": [
    "### Create Convolutional Model\n",
    "Implement the function `conv_net` to create a convolutional neural network model. The function takes in a batch of images, `x`, and outputs logits.  Use the layers you created above to create this model:\n",
    "\n",
    "* Apply 1, 2, or 3 Convolution and Max Pool layers\n",
    "* Apply a Flatten Layer\n",
    "* Apply 1, 2, or 3 Fully Connected Layers\n",
    "* Apply an Output Layer\n",
    "* Return the output\n",
    "* Apply [TensorFlow's Dropout](https://www.tensorflow.org/api_docs/python/tf/nn/dropout) to one or more layers in the model using `keep_prob`. "
   ]
  },
  {
   "cell_type": "code",
   "execution_count": 51,
   "metadata": {},
   "outputs": [
    {
     "name": "stdout",
     "output_type": "stream",
     "text": [
      "32 32 3\n",
      "Neural Network Built!\n"
     ]
    }
   ],
   "source": [
    "def conv_net(x, keep_prob):\n",
    "    \"\"\"\n",
    "    Create a convolutional neural network model\n",
    "    : x: Placeholder tensor that holds image data.\n",
    "    : keep_prob: Placeholder tensor that hold dropout keep probability.\n",
    "    : return: Tensor that represents logits\n",
    "    \"\"\"\n",
    "    # TODO: Apply 1, 2, or 3 Convolution and Max Pool layers\n",
    "    #    Play around with different number of outputs, kernel size and stride\n",
    "    # Function Definition from Above:\n",
    "    #    conv2d_maxpool(x_tensor, conv_num_outputs, conv_ksize, conv_strides, pool_ksize, pool_strides)\n",
    "    net1 = conv2d_maxpool(x, 32, (5,5),(2,2),(3,3),(2,2))\n",
    "    # net1 = conv2d_maxpool(net1, 64, (5,5),(2,2),(3,3),(2,2))\n",
    "    net2 = conv2d_maxpool(x, 32, (3,3),(2,2),(3,3),(2,2))\n",
    "    net3 = conv2d_maxpool(x, 32, (1,1),(1,1),(3,3),(2,2))\n",
    "    # net = conv2d_maxpool(x, 32, (3,3),(2,2),(3,3),(2,2))\n",
    "    # net = conv2d_maxpool(net, 64, (3,3),(2,2),(3,3),(2,2))\n",
    "    # net = conv2d_maxpool(net, 128, (3,3),(2,2),(3,3),(2,2))\n",
    "    # TODO: Apply a Flatten Layer\n",
    "    # Function Definition from Above:\n",
    "    #   flatten(x_tensor)\n",
    "    net1 = flatten(net1)\n",
    "    net2 = flatten(net2)\n",
    "    net3 = flatten(net3)\n",
    "    net = tf.concat([net1,net2,net3],1)\n",
    "    # net = flatten(net)\n",
    "    \n",
    "    # TODO: Apply 1, 2, or 3 Fully Connected Layers\n",
    "    #    Play around with different number of outputs\n",
    "    # Function Definition from Above:\n",
    "    #   fully_conn(x_tensor, num_outputs)\n",
    "    net = fully_conn(net, 512)\n",
    "    net = tf.nn.dropout(net,keep_prob)\n",
    "    net = fully_conn(net, 64)\n",
    "    net = tf.nn.dropout(net,keep_prob)\n",
    "    # net = fully_conn(net,1024)\n",
    "    # net = tf.nn.dropout(net,keep_prob)\n",
    "    \n",
    "    # TODO: Apply an Output Layer\n",
    "    #    Set this to the number of classes\n",
    "    # Function Definition from Above:\n",
    "    #   output(x_tensor, num_outputs)\n",
    "    out = output(net, 10)\n",
    "    \n",
    "    # TODO: return output\n",
    "    return out\n",
    "\n",
    "\n",
    "\"\"\"\n",
    "DON'T MODIFY ANYTHING IN THIS CELL THAT IS BELOW THIS LINE\n",
    "\"\"\"\n",
    "\n",
    "##############################\n",
    "## Build the Neural Network ##\n",
    "##############################\n",
    "\n",
    "# Remove previous weights, bias, inputs, etc..\n",
    "tf.reset_default_graph()\n",
    "\n",
    "# Inputs\n",
    "x = neural_net_image_input((32, 32, 3))\n",
    "y = neural_net_label_input(10)\n",
    "keep_prob = neural_net_keep_prob_input()\n",
    "\n",
    "# Model\n",
    "logits = conv_net(x, keep_prob)\n",
    "\n",
    "# Name logits Tensor, so that is can be loaded from disk after training\n",
    "logits = tf.identity(logits, name='logits')\n",
    "\n",
    "# Loss and Optimizer\n",
    "cost = tf.reduce_mean(tf.nn.softmax_cross_entropy_with_logits(logits=logits, labels=y))\n",
    "optimizer = tf.train.AdamOptimizer().minimize(cost)\n",
    "\n",
    "# Accuracy\n",
    "correct_pred = tf.equal(tf.argmax(logits, 1), tf.argmax(y, 1))\n",
    "accuracy = tf.reduce_mean(tf.cast(correct_pred, tf.float32), name='accuracy')\n",
    "\n",
    "tests.test_conv_net(conv_net)"
   ]
  },
  {
   "cell_type": "markdown",
   "metadata": {},
   "source": [
    "## Train the Neural Network\n",
    "### Single Optimization\n",
    "Implement the function `train_neural_network` to do a single optimization.  The optimization should use `optimizer` to optimize in `session` with a `feed_dict` of the following:\n",
    "* `x` for image input\n",
    "* `y` for labels\n",
    "* `keep_prob` for keep probability for dropout\n",
    "\n",
    "This function will be called for each batch, so `tf.global_variables_initializer()` has already been called.\n",
    "\n",
    "Note: Nothing needs to be returned. This function is only optimizing the neural network."
   ]
  },
  {
   "cell_type": "code",
   "execution_count": 26,
   "metadata": {},
   "outputs": [
    {
     "name": "stdout",
     "output_type": "stream",
     "text": [
      "Tests Passed\n"
     ]
    }
   ],
   "source": [
    "def train_neural_network(session, optimizer, keep_probability, feature_batch, label_batch):\n",
    "    \"\"\"\n",
    "    Optimize the session on a batch of images and labels\n",
    "    : session: Current TensorFlow session\n",
    "    : optimizer: TensorFlow optimizer function\n",
    "    : keep_probability: keep probability\n",
    "    : feature_batch: Batch of Numpy image data\n",
    "    : label_batch: Batch of Numpy label data\n",
    "    \"\"\"\n",
    "    # TODO: Implement Function\n",
    "    optimizer = session.run(optimizer,feed_dict={x:feature_batch, y:label_batch, keep_prob:keep_probability})\n",
    "    \n",
    "\n",
    "\n",
    "\"\"\"\n",
    "DON'T MODIFY ANYTHING IN THIS CELL THAT IS BELOW THIS LINE\n",
    "\"\"\"\n",
    "tests.test_train_nn(train_neural_network)"
   ]
  },
  {
   "cell_type": "markdown",
   "metadata": {},
   "source": [
    "### Show Stats\n",
    "Implement the function `print_stats` to print loss and validation accuracy.  Use the global variables `valid_features` and `valid_labels` to calculate validation accuracy.  Use a keep probability of `1.0` to calculate the loss and validation accuracy."
   ]
  },
  {
   "cell_type": "code",
   "execution_count": 21,
   "metadata": {
    "collapsed": true
   },
   "outputs": [],
   "source": [
    "def print_stats(session, feature_batch, label_batch, cost, accuracy):\n",
    "    \"\"\"\n",
    "    Print information about loss and validation accuracy\n",
    "    : session: Current TensorFlow session\n",
    "    : feature_batch: Batch of Numpy image data\n",
    "    : label_batch: Batch of Numpy label data\n",
    "    : cost: TensorFlow cost function\n",
    "    : accuracy: TensorFlow accuracy function\n",
    "    \"\"\"\n",
    "    # TODO: Implement Function\n",
    "    cost,acc = session.run([cost,accuracy], feed_dict={x:feature_batch, y:label_batch, keep_prob:1.0})\n",
    "    val_acc = session.run(accuracy, feed_dict={x:valid_features, y:valid_labels, keep_prob:1.0})\n",
    "    print('cost: %.4f, acc: %.4f, val_acc: %.4f'%(cost,acc,val_acc))"
   ]
  },
  {
   "cell_type": "markdown",
   "metadata": {},
   "source": [
    "### Hyperparameters\n",
    "Tune the following parameters:\n",
    "* Set `epochs` to the number of iterations until the network stops learning or start overfitting\n",
    "* Set `batch_size` to the highest number that your machine has memory for.  Most people set them to common sizes of memory:\n",
    " * 64\n",
    " * 128\n",
    " * 256\n",
    " * ...\n",
    "* Set `keep_probability` to the probability of keeping a node using dropout"
   ]
  },
  {
   "cell_type": "code",
   "execution_count": 58,
   "metadata": {
    "collapsed": true
   },
   "outputs": [],
   "source": [
    "# TODO: Tune Parameters\n",
    "epochs = 10\n",
    "batch_size = 256\n",
    "keep_probability = 0.5"
   ]
  },
  {
   "cell_type": "markdown",
   "metadata": {},
   "source": [
    "### Train on a Single CIFAR-10 Batch\n",
    "Instead of training the neural network on all the CIFAR-10 batches of data, let's use a single batch. This should save time while you iterate on the model to get a better accuracy.  Once the final validation accuracy is 50% or greater, run the model on all the data in the next section."
   ]
  },
  {
   "cell_type": "code",
   "execution_count": 59,
   "metadata": {},
   "outputs": [
    {
     "name": "stdout",
     "output_type": "stream",
     "text": [
      "Checking the Training on a Single Batch...\n",
      "Epoch  1, CIFAR-10 Batch 1:  cost: 2.2935, acc: 0.1750, val_acc: 0.1522\n",
      "Epoch  2, CIFAR-10 Batch 1:  cost: 2.1527, acc: 0.2750, val_acc: 0.2554\n",
      "Epoch  3, CIFAR-10 Batch 1:  cost: 1.9786, acc: 0.3250, val_acc: 0.3274\n",
      "Epoch  4, CIFAR-10 Batch 1:  cost: 1.8289, acc: 0.4000, val_acc: 0.3804\n",
      "Epoch  5, CIFAR-10 Batch 1:  cost: 1.6340, acc: 0.4000, val_acc: 0.4284\n",
      "Epoch  6, CIFAR-10 Batch 1:  cost: 1.4509, acc: 0.5000, val_acc: 0.4666\n",
      "Epoch  7, CIFAR-10 Batch 1:  cost: 1.3105, acc: 0.5750, val_acc: 0.4868\n",
      "Epoch  8, CIFAR-10 Batch 1:  cost: 1.1295, acc: 0.6500, val_acc: 0.4986\n",
      "Epoch  9, CIFAR-10 Batch 1:  cost: 1.0552, acc: 0.6250, val_acc: 0.4928\n",
      "Epoch 10, CIFAR-10 Batch 1:  cost: 0.9423, acc: 0.6750, val_acc: 0.5216\n"
     ]
    }
   ],
   "source": [
    "\"\"\"\n",
    "DON'T MODIFY ANYTHING IN THIS CELL\n",
    "\"\"\"\n",
    "print('Checking the Training on a Single Batch...')\n",
    "with tf.Session() as sess:\n",
    "    # Initializing the variables\n",
    "    sess.run(tf.global_variables_initializer())\n",
    "    \n",
    "    # Training cycle\n",
    "    for epoch in range(epochs):\n",
    "        batch_i = 1\n",
    "        for batch_features, batch_labels in helper.load_preprocess_training_batch(batch_i, batch_size):\n",
    "            train_neural_network(sess, optimizer, keep_probability, batch_features, batch_labels)\n",
    "        print('Epoch {:>2}, CIFAR-10 Batch {}:  '.format(epoch + 1, batch_i), end='')\n",
    "        print_stats(sess, batch_features, batch_labels, cost, accuracy)"
   ]
  },
  {
   "cell_type": "markdown",
   "metadata": {},
   "source": [
    "### Fully Train the Model\n",
    "Now that you got a good accuracy with a single CIFAR-10 batch, try it with all five batches."
   ]
  },
  {
   "cell_type": "code",
   "execution_count": 56,
   "metadata": {
    "scrolled": false
   },
   "outputs": [
    {
     "name": "stdout",
     "output_type": "stream",
     "text": [
      "Training...\n",
      "Epoch  1, CIFAR-10 Batch 1:  cost: 2.2651, acc: 0.1000, val_acc: 0.1410\n",
      "Epoch  1, CIFAR-10 Batch 2:  cost: 2.1199, acc: 0.3250, val_acc: 0.2642\n",
      "Epoch  1, CIFAR-10 Batch 3:  cost: 1.8234, acc: 0.3750, val_acc: 0.3410\n",
      "Epoch  1, CIFAR-10 Batch 4:  cost: 1.7881, acc: 0.3250, val_acc: 0.3876\n",
      "Epoch  1, CIFAR-10 Batch 5:  cost: 1.6776, acc: 0.4000, val_acc: 0.4270\n",
      "Epoch  2, CIFAR-10 Batch 1:  cost: 1.8558, acc: 0.4000, val_acc: 0.4320\n",
      "Epoch  2, CIFAR-10 Batch 2:  cost: 1.6216, acc: 0.4500, val_acc: 0.4822\n",
      "Epoch  2, CIFAR-10 Batch 3:  cost: 1.3030, acc: 0.5750, val_acc: 0.4826\n",
      "Epoch  2, CIFAR-10 Batch 4:  cost: 1.4780, acc: 0.4750, val_acc: 0.4980\n",
      "Epoch  2, CIFAR-10 Batch 5:  cost: 1.4299, acc: 0.4500, val_acc: 0.5072\n",
      "Epoch  3, CIFAR-10 Batch 1:  cost: 1.3983, acc: 0.5500, val_acc: 0.5270\n",
      "Epoch  3, CIFAR-10 Batch 2:  cost: 1.3600, acc: 0.4750, val_acc: 0.5426\n",
      "Epoch  3, CIFAR-10 Batch 3:  cost: 1.1078, acc: 0.5500, val_acc: 0.5378\n",
      "Epoch  3, CIFAR-10 Batch 4:  cost: 1.3531, acc: 0.4750, val_acc: 0.5276\n",
      "Epoch  3, CIFAR-10 Batch 5:  cost: 1.2047, acc: 0.6000, val_acc: 0.5526\n",
      "Epoch  4, CIFAR-10 Batch 1:  cost: 1.1191, acc: 0.6000, val_acc: 0.5488\n",
      "Epoch  4, CIFAR-10 Batch 2:  cost: 1.0979, acc: 0.5250, val_acc: 0.5640\n",
      "Epoch  4, CIFAR-10 Batch 3:  cost: 0.9314, acc: 0.7250, val_acc: 0.5714\n",
      "Epoch  4, CIFAR-10 Batch 4:  cost: 1.0975, acc: 0.6000, val_acc: 0.5772\n",
      "Epoch  4, CIFAR-10 Batch 5:  cost: 1.0061, acc: 0.7250, val_acc: 0.5740\n",
      "Epoch  5, CIFAR-10 Batch 1:  cost: 1.0093, acc: 0.6250, val_acc: 0.5776\n",
      "Epoch  5, CIFAR-10 Batch 2:  cost: 0.9761, acc: 0.6250, val_acc: 0.5926\n",
      "Epoch  5, CIFAR-10 Batch 3:  cost: 0.8459, acc: 0.6750, val_acc: 0.5838\n",
      "Epoch  5, CIFAR-10 Batch 4:  cost: 0.9675, acc: 0.6750, val_acc: 0.5838\n",
      "Epoch  5, CIFAR-10 Batch 5:  cost: 0.8853, acc: 0.7750, val_acc: 0.5960\n",
      "Epoch  6, CIFAR-10 Batch 1:  cost: 0.9161, acc: 0.6750, val_acc: 0.5896\n",
      "Epoch  6, CIFAR-10 Batch 2:  cost: 0.8329, acc: 0.7250, val_acc: 0.6018\n",
      "Epoch  6, CIFAR-10 Batch 3:  cost: 0.7427, acc: 0.7500, val_acc: 0.6024\n",
      "Epoch  6, CIFAR-10 Batch 4:  cost: 0.8256, acc: 0.7500, val_acc: 0.6086\n",
      "Epoch  6, CIFAR-10 Batch 5:  cost: 0.7943, acc: 0.8250, val_acc: 0.6110\n",
      "Epoch  7, CIFAR-10 Batch 1:  cost: 0.8345, acc: 0.7250, val_acc: 0.5944\n",
      "Epoch  7, CIFAR-10 Batch 2:  cost: 0.6715, acc: 0.8250, val_acc: 0.5996\n",
      "Epoch  7, CIFAR-10 Batch 3:  cost: 0.6491, acc: 0.8250, val_acc: 0.6092\n",
      "Epoch  7, CIFAR-10 Batch 4:  cost: 0.7623, acc: 0.7750, val_acc: 0.6102\n",
      "Epoch  7, CIFAR-10 Batch 5:  cost: 0.6531, acc: 0.8750, val_acc: 0.6234\n",
      "Epoch  8, CIFAR-10 Batch 1:  cost: 0.7626, acc: 0.7250, val_acc: 0.6280\n",
      "Epoch  8, CIFAR-10 Batch 2:  cost: 0.6119, acc: 0.8250, val_acc: 0.6234\n",
      "Epoch  8, CIFAR-10 Batch 3:  cost: 0.5700, acc: 0.8500, val_acc: 0.6244\n",
      "Epoch  8, CIFAR-10 Batch 4:  cost: 0.6120, acc: 0.7500, val_acc: 0.6330\n",
      "Epoch  8, CIFAR-10 Batch 5:  cost: 0.5800, acc: 0.8750, val_acc: 0.6300\n",
      "Epoch  9, CIFAR-10 Batch 1:  cost: 0.7089, acc: 0.7500, val_acc: 0.6070\n",
      "Epoch  9, CIFAR-10 Batch 2:  cost: 0.5256, acc: 0.8500, val_acc: 0.6290\n",
      "Epoch  9, CIFAR-10 Batch 3:  cost: 0.4617, acc: 0.9000, val_acc: 0.6410\n",
      "Epoch  9, CIFAR-10 Batch 4:  cost: 0.5609, acc: 0.8250, val_acc: 0.6314\n",
      "Epoch  9, CIFAR-10 Batch 5:  cost: 0.4966, acc: 0.9000, val_acc: 0.6418\n",
      "Epoch 10, CIFAR-10 Batch 1:  cost: 0.6029, acc: 0.7500, val_acc: 0.6338\n",
      "Epoch 10, CIFAR-10 Batch 2:  cost: 0.4859, acc: 0.8750, val_acc: 0.6362\n",
      "Epoch 10, CIFAR-10 Batch 3:  cost: 0.4173, acc: 0.8750, val_acc: 0.6424\n",
      "Epoch 10, CIFAR-10 Batch 4:  cost: 0.4781, acc: 0.8500, val_acc: 0.6428\n",
      "Epoch 10, CIFAR-10 Batch 5:  cost: 0.4380, acc: 0.9000, val_acc: 0.6430\n",
      "Epoch 11, CIFAR-10 Batch 1:  cost: 0.5399, acc: 0.8000, val_acc: 0.6302\n",
      "Epoch 11, CIFAR-10 Batch 2:  cost: 0.4393, acc: 0.9000, val_acc: 0.6456\n",
      "Epoch 11, CIFAR-10 Batch 3:  cost: 0.4045, acc: 0.8750, val_acc: 0.6414\n",
      "Epoch 11, CIFAR-10 Batch 4:  cost: 0.3851, acc: 0.9500, val_acc: 0.6490\n",
      "Epoch 11, CIFAR-10 Batch 5:  cost: 0.3887, acc: 0.9250, val_acc: 0.6528\n",
      "Epoch 12, CIFAR-10 Batch 1:  cost: 0.4894, acc: 0.8250, val_acc: 0.6550\n",
      "Epoch 12, CIFAR-10 Batch 2:  cost: 0.4159, acc: 0.9250, val_acc: 0.6516\n",
      "Epoch 12, CIFAR-10 Batch 3:  cost: 0.3092, acc: 0.9250, val_acc: 0.6442\n",
      "Epoch 12, CIFAR-10 Batch 4:  cost: 0.3516, acc: 0.8750, val_acc: 0.6564\n",
      "Epoch 12, CIFAR-10 Batch 5:  cost: 0.3334, acc: 0.9250, val_acc: 0.6612\n",
      "Epoch 13, CIFAR-10 Batch 1:  cost: 0.5087, acc: 0.8000, val_acc: 0.6584\n",
      "Epoch 13, CIFAR-10 Batch 2:  cost: 0.3335, acc: 0.9250, val_acc: 0.6616\n",
      "Epoch 13, CIFAR-10 Batch 3:  cost: 0.2850, acc: 0.9250, val_acc: 0.6566\n",
      "Epoch 13, CIFAR-10 Batch 4:  cost: 0.3518, acc: 0.9000, val_acc: 0.6494\n",
      "Epoch 13, CIFAR-10 Batch 5:  cost: 0.3004, acc: 0.9250, val_acc: 0.6590\n",
      "Epoch 14, CIFAR-10 Batch 1:  cost: 0.4159, acc: 0.8750, val_acc: 0.6600\n",
      "Epoch 14, CIFAR-10 Batch 2:  cost: 0.3164, acc: 0.9250, val_acc: 0.6654\n",
      "Epoch 14, CIFAR-10 Batch 3:  cost: 0.2472, acc: 0.9750, val_acc: 0.6604\n",
      "Epoch 14, CIFAR-10 Batch 4:  cost: 0.2892, acc: 0.9750, val_acc: 0.6698\n",
      "Epoch 14, CIFAR-10 Batch 5:  cost: 0.2666, acc: 0.9750, val_acc: 0.6704\n",
      "Epoch 15, CIFAR-10 Batch 1:  cost: 0.4301, acc: 0.8500, val_acc: 0.6698\n",
      "Epoch 15, CIFAR-10 Batch 2:  cost: 0.2885, acc: 0.9250, val_acc: 0.6642\n",
      "Epoch 15, CIFAR-10 Batch 3:  cost: 0.2446, acc: 0.9500, val_acc: 0.6584\n",
      "Epoch 15, CIFAR-10 Batch 4:  cost: 0.2575, acc: 0.9500, val_acc: 0.6724\n",
      "Epoch 15, CIFAR-10 Batch 5:  cost: 0.2312, acc: 0.9500, val_acc: 0.6666\n",
      "Epoch 16, CIFAR-10 Batch 1:  cost: 0.3816, acc: 0.8500, val_acc: 0.6736\n",
      "Epoch 16, CIFAR-10 Batch 2:  cost: 0.2633, acc: 0.9000, val_acc: 0.6760\n",
      "Epoch 16, CIFAR-10 Batch 3:  cost: 0.2040, acc: 0.9750, val_acc: 0.6724\n",
      "Epoch 16, CIFAR-10 Batch 4:  cost: 0.2405, acc: 0.9500, val_acc: 0.6762\n",
      "Epoch 16, CIFAR-10 Batch 5:  cost: 0.2111, acc: 0.9750, val_acc: 0.6676\n",
      "Epoch 17, CIFAR-10 Batch 1:  cost: 0.3256, acc: 0.9000, val_acc: 0.6682\n",
      "Epoch 17, CIFAR-10 Batch 2:  cost: 0.2194, acc: 0.9500, val_acc: 0.6730\n",
      "Epoch 17, CIFAR-10 Batch 3:  cost: 0.1745, acc: 0.9750, val_acc: 0.6734\n",
      "Epoch 17, CIFAR-10 Batch 4:  cost: 0.1959, acc: 0.9750, val_acc: 0.6796\n",
      "Epoch 17, CIFAR-10 Batch 5:  cost: 0.2150, acc: 0.9750, val_acc: 0.6634\n",
      "Epoch 18, CIFAR-10 Batch 1:  cost: 0.3029, acc: 0.9000, val_acc: 0.6672\n",
      "Epoch 18, CIFAR-10 Batch 2:  cost: 0.2109, acc: 0.9250, val_acc: 0.6750\n",
      "Epoch 18, CIFAR-10 Batch 3:  cost: 0.1501, acc: 0.9750, val_acc: 0.6742\n",
      "Epoch 18, CIFAR-10 Batch 4:  cost: 0.1884, acc: 0.9500, val_acc: 0.6746\n",
      "Epoch 18, CIFAR-10 Batch 5:  cost: 0.1688, acc: 0.9750, val_acc: 0.6830\n",
      "Epoch 19, CIFAR-10 Batch 1:  cost: 0.2773, acc: 0.9000, val_acc: 0.6682\n",
      "Epoch 19, CIFAR-10 Batch 2:  cost: 0.2106, acc: 0.9000, val_acc: 0.6696\n",
      "Epoch 19, CIFAR-10 Batch 3:  cost: 0.1532, acc: 0.9750, val_acc: 0.6720\n",
      "Epoch 19, CIFAR-10 Batch 4:  cost: 0.1531, acc: 1.0000, val_acc: 0.6830\n",
      "Epoch 19, CIFAR-10 Batch 5:  cost: 0.1595, acc: 0.9500, val_acc: 0.6846\n",
      "Epoch 20, CIFAR-10 Batch 1:  cost: 0.2631, acc: 0.9000, val_acc: 0.6800\n",
      "Epoch 20, CIFAR-10 Batch 2:  cost: 0.1823, acc: 0.9500, val_acc: 0.6728\n",
      "Epoch 20, CIFAR-10 Batch 3:  cost: 0.1557, acc: 0.9750, val_acc: 0.6668\n",
      "Epoch 20, CIFAR-10 Batch 4:  cost: 0.1630, acc: 1.0000, val_acc: 0.6740\n",
      "Epoch 20, CIFAR-10 Batch 5:  cost: 0.1501, acc: 1.0000, val_acc: 0.6808\n",
      "Epoch 21, CIFAR-10 Batch 1:  cost: 0.2310, acc: 0.9250, val_acc: 0.6768\n",
      "Epoch 21, CIFAR-10 Batch 2:  cost: 0.1619, acc: 0.9500, val_acc: 0.6780\n",
      "Epoch 21, CIFAR-10 Batch 3:  cost: 0.1295, acc: 1.0000, val_acc: 0.6730\n",
      "Epoch 21, CIFAR-10 Batch 4:  cost: 0.1373, acc: 0.9750, val_acc: 0.6792\n",
      "Epoch 21, CIFAR-10 Batch 5:  cost: 0.1252, acc: 1.0000, val_acc: 0.6834\n",
      "Epoch 22, CIFAR-10 Batch 1:  cost: 0.2260, acc: 0.9250, val_acc: 0.6754\n",
      "Epoch 22, CIFAR-10 Batch 2:  cost: 0.1477, acc: 0.9500, val_acc: 0.6708\n",
      "Epoch 22, CIFAR-10 Batch 3:  cost: 0.1094, acc: 0.9750, val_acc: 0.6834\n",
      "Epoch 22, CIFAR-10 Batch 4:  cost: 0.1074, acc: 1.0000, val_acc: 0.6832\n",
      "Epoch 22, CIFAR-10 Batch 5:  cost: 0.1283, acc: 1.0000, val_acc: 0.6754\n",
      "Epoch 23, CIFAR-10 Batch 1:  cost: 0.2087, acc: 0.9250, val_acc: 0.6776\n",
      "Epoch 23, CIFAR-10 Batch 2:  cost: 0.1336, acc: 0.9500, val_acc: 0.6712\n",
      "Epoch 23, CIFAR-10 Batch 3:  cost: 0.1154, acc: 1.0000, val_acc: 0.6734\n",
      "Epoch 23, CIFAR-10 Batch 4:  cost: 0.1207, acc: 1.0000, val_acc: 0.6794\n"
     ]
    },
    {
     "name": "stdout",
     "output_type": "stream",
     "text": [
      "Epoch 23, CIFAR-10 Batch 5:  cost: 0.1062, acc: 1.0000, val_acc: 0.6810\n",
      "Epoch 24, CIFAR-10 Batch 1:  cost: 0.1843, acc: 0.9500, val_acc: 0.6866\n",
      "Epoch 24, CIFAR-10 Batch 2:  cost: 0.1199, acc: 0.9750, val_acc: 0.6616\n",
      "Epoch 24, CIFAR-10 Batch 3:  cost: 0.0933, acc: 1.0000, val_acc: 0.6888\n",
      "Epoch 24, CIFAR-10 Batch 4:  cost: 0.0833, acc: 1.0000, val_acc: 0.6904\n",
      "Epoch 24, CIFAR-10 Batch 5:  cost: 0.0934, acc: 1.0000, val_acc: 0.6906\n",
      "Epoch 25, CIFAR-10 Batch 1:  cost: 0.1766, acc: 0.9250, val_acc: 0.6790\n",
      "Epoch 25, CIFAR-10 Batch 2:  cost: 0.0822, acc: 1.0000, val_acc: 0.6776\n",
      "Epoch 25, CIFAR-10 Batch 3:  cost: 0.0830, acc: 0.9750, val_acc: 0.6826\n",
      "Epoch 25, CIFAR-10 Batch 4:  cost: 0.0928, acc: 1.0000, val_acc: 0.6854\n",
      "Epoch 25, CIFAR-10 Batch 5:  cost: 0.1010, acc: 1.0000, val_acc: 0.6800\n",
      "Epoch 26, CIFAR-10 Batch 1:  cost: 0.1813, acc: 0.9500, val_acc: 0.6848\n",
      "Epoch 26, CIFAR-10 Batch 2:  cost: 0.0845, acc: 0.9750, val_acc: 0.6762\n",
      "Epoch 26, CIFAR-10 Batch 3:  cost: 0.0919, acc: 0.9750, val_acc: 0.6926\n",
      "Epoch 26, CIFAR-10 Batch 4:  cost: 0.0733, acc: 1.0000, val_acc: 0.6854\n",
      "Epoch 26, CIFAR-10 Batch 5:  cost: 0.0810, acc: 1.0000, val_acc: 0.6882\n",
      "Epoch 27, CIFAR-10 Batch 1:  cost: 0.1525, acc: 0.9500, val_acc: 0.6948\n",
      "Epoch 27, CIFAR-10 Batch 2:  cost: 0.0722, acc: 0.9750, val_acc: 0.6852\n",
      "Epoch 27, CIFAR-10 Batch 3:  cost: 0.0819, acc: 1.0000, val_acc: 0.6842\n",
      "Epoch 27, CIFAR-10 Batch 4:  cost: 0.0735, acc: 1.0000, val_acc: 0.6890\n",
      "Epoch 27, CIFAR-10 Batch 5:  cost: 0.0709, acc: 1.0000, val_acc: 0.6990\n",
      "Epoch 28, CIFAR-10 Batch 1:  cost: 0.1368, acc: 0.9750, val_acc: 0.7012\n",
      "Epoch 28, CIFAR-10 Batch 2:  cost: 0.0708, acc: 1.0000, val_acc: 0.6872\n",
      "Epoch 28, CIFAR-10 Batch 3:  cost: 0.0663, acc: 0.9750, val_acc: 0.6910\n",
      "Epoch 28, CIFAR-10 Batch 4:  cost: 0.0664, acc: 1.0000, val_acc: 0.6872\n",
      "Epoch 28, CIFAR-10 Batch 5:  cost: 0.0704, acc: 1.0000, val_acc: 0.6880\n",
      "Epoch 29, CIFAR-10 Batch 1:  cost: 0.1270, acc: 0.9750, val_acc: 0.6898\n",
      "Epoch 29, CIFAR-10 Batch 2:  cost: 0.0559, acc: 1.0000, val_acc: 0.6926\n",
      "Epoch 29, CIFAR-10 Batch 3:  cost: 0.0649, acc: 1.0000, val_acc: 0.6962\n",
      "Epoch 29, CIFAR-10 Batch 4:  cost: 0.0595, acc: 1.0000, val_acc: 0.6872\n",
      "Epoch 29, CIFAR-10 Batch 5:  cost: 0.0620, acc: 1.0000, val_acc: 0.6912\n",
      "Epoch 30, CIFAR-10 Batch 1:  cost: 0.1327, acc: 0.9500, val_acc: 0.6818\n",
      "Epoch 30, CIFAR-10 Batch 2:  cost: 0.0572, acc: 1.0000, val_acc: 0.6926\n",
      "Epoch 30, CIFAR-10 Batch 3:  cost: 0.0582, acc: 0.9750, val_acc: 0.6944\n",
      "Epoch 30, CIFAR-10 Batch 4:  cost: 0.0593, acc: 1.0000, val_acc: 0.6832\n",
      "Epoch 30, CIFAR-10 Batch 5:  cost: 0.0510, acc: 1.0000, val_acc: 0.6914\n",
      "Epoch 31, CIFAR-10 Batch 1:  cost: 0.0933, acc: 0.9750, val_acc: 0.6916\n",
      "Epoch 31, CIFAR-10 Batch 2:  cost: 0.0522, acc: 1.0000, val_acc: 0.6962\n",
      "Epoch 31, CIFAR-10 Batch 3:  cost: 0.0487, acc: 1.0000, val_acc: 0.6974\n",
      "Epoch 31, CIFAR-10 Batch 4:  cost: 0.0468, acc: 1.0000, val_acc: 0.6866\n",
      "Epoch 31, CIFAR-10 Batch 5:  cost: 0.0481, acc: 1.0000, val_acc: 0.6862\n",
      "Epoch 32, CIFAR-10 Batch 1:  cost: 0.0828, acc: 1.0000, val_acc: 0.6982\n",
      "Epoch 32, CIFAR-10 Batch 2:  cost: 0.0505, acc: 1.0000, val_acc: 0.6902\n",
      "Epoch 32, CIFAR-10 Batch 3:  cost: 0.0542, acc: 1.0000, val_acc: 0.6874\n",
      "Epoch 32, CIFAR-10 Batch 4:  cost: 0.0395, acc: 1.0000, val_acc: 0.6854\n",
      "Epoch 32, CIFAR-10 Batch 5:  cost: 0.0408, acc: 1.0000, val_acc: 0.6936\n",
      "Epoch 33, CIFAR-10 Batch 1:  cost: 0.0805, acc: 1.0000, val_acc: 0.6928\n",
      "Epoch 33, CIFAR-10 Batch 2:  cost: 0.0377, acc: 1.0000, val_acc: 0.6976\n",
      "Epoch 33, CIFAR-10 Batch 3:  cost: 0.0524, acc: 1.0000, val_acc: 0.6866\n",
      "Epoch 33, CIFAR-10 Batch 4:  cost: 0.0500, acc: 1.0000, val_acc: 0.6756\n",
      "Epoch 33, CIFAR-10 Batch 5:  cost: 0.0334, acc: 1.0000, val_acc: 0.6930\n",
      "Epoch 34, CIFAR-10 Batch 1:  cost: 0.0729, acc: 1.0000, val_acc: 0.6948\n",
      "Epoch 34, CIFAR-10 Batch 2:  cost: 0.0384, acc: 1.0000, val_acc: 0.6908\n",
      "Epoch 34, CIFAR-10 Batch 3:  cost: 0.0462, acc: 1.0000, val_acc: 0.6858\n",
      "Epoch 34, CIFAR-10 Batch 4:  cost: 0.0400, acc: 1.0000, val_acc: 0.6942\n",
      "Epoch 34, CIFAR-10 Batch 5:  cost: 0.0328, acc: 1.0000, val_acc: 0.6930\n",
      "Epoch 35, CIFAR-10 Batch 1:  cost: 0.0654, acc: 1.0000, val_acc: 0.6906\n",
      "Epoch 35, CIFAR-10 Batch 2:  cost: 0.0390, acc: 1.0000, val_acc: 0.6958\n",
      "Epoch 35, CIFAR-10 Batch 3:  cost: 0.0401, acc: 1.0000, val_acc: 0.6898\n",
      "Epoch 35, CIFAR-10 Batch 4:  cost: 0.0318, acc: 1.0000, val_acc: 0.7004\n",
      "Epoch 35, CIFAR-10 Batch 5:  cost: 0.0323, acc: 1.0000, val_acc: 0.7028\n",
      "Epoch 36, CIFAR-10 Batch 1:  cost: 0.0697, acc: 1.0000, val_acc: 0.6892\n",
      "Epoch 36, CIFAR-10 Batch 2:  cost: 0.0309, acc: 1.0000, val_acc: 0.6954\n",
      "Epoch 36, CIFAR-10 Batch 3:  cost: 0.0365, acc: 1.0000, val_acc: 0.6904\n",
      "Epoch 36, CIFAR-10 Batch 4:  cost: 0.0339, acc: 1.0000, val_acc: 0.6912\n",
      "Epoch 36, CIFAR-10 Batch 5:  cost: 0.0258, acc: 1.0000, val_acc: 0.6968\n",
      "Epoch 37, CIFAR-10 Batch 1:  cost: 0.0441, acc: 1.0000, val_acc: 0.6972\n",
      "Epoch 37, CIFAR-10 Batch 2:  cost: 0.0386, acc: 1.0000, val_acc: 0.6964\n",
      "Epoch 37, CIFAR-10 Batch 3:  cost: 0.0320, acc: 1.0000, val_acc: 0.6962\n",
      "Epoch 37, CIFAR-10 Batch 4:  cost: 0.0311, acc: 1.0000, val_acc: 0.6930\n",
      "Epoch 37, CIFAR-10 Batch 5:  cost: 0.0253, acc: 1.0000, val_acc: 0.6942\n",
      "Epoch 38, CIFAR-10 Batch 1:  cost: 0.0468, acc: 1.0000, val_acc: 0.6918\n",
      "Epoch 38, CIFAR-10 Batch 2:  cost: 0.0224, acc: 1.0000, val_acc: 0.6940\n",
      "Epoch 38, CIFAR-10 Batch 3:  cost: 0.0330, acc: 1.0000, val_acc: 0.6968\n",
      "Epoch 38, CIFAR-10 Batch 4:  cost: 0.0250, acc: 1.0000, val_acc: 0.6984\n",
      "Epoch 38, CIFAR-10 Batch 5:  cost: 0.0144, acc: 1.0000, val_acc: 0.6966\n",
      "Epoch 39, CIFAR-10 Batch 1:  cost: 0.0430, acc: 1.0000, val_acc: 0.6996\n",
      "Epoch 39, CIFAR-10 Batch 2:  cost: 0.0249, acc: 1.0000, val_acc: 0.6964\n",
      "Epoch 39, CIFAR-10 Batch 3:  cost: 0.0210, acc: 1.0000, val_acc: 0.6996\n",
      "Epoch 39, CIFAR-10 Batch 4:  cost: 0.0323, acc: 1.0000, val_acc: 0.7006\n",
      "Epoch 39, CIFAR-10 Batch 5:  cost: 0.0184, acc: 1.0000, val_acc: 0.6858\n",
      "Epoch 40, CIFAR-10 Batch 1:  cost: 0.0418, acc: 1.0000, val_acc: 0.6924\n",
      "Epoch 40, CIFAR-10 Batch 2:  cost: 0.0219, acc: 1.0000, val_acc: 0.7030\n",
      "Epoch 40, CIFAR-10 Batch 3:  cost: 0.0199, acc: 1.0000, val_acc: 0.6924\n",
      "Epoch 40, CIFAR-10 Batch 4:  cost: 0.0239, acc: 1.0000, val_acc: 0.7040\n",
      "Epoch 40, CIFAR-10 Batch 5:  cost: 0.0210, acc: 1.0000, val_acc: 0.6914\n",
      "Epoch 41, CIFAR-10 Batch 1:  cost: 0.0472, acc: 1.0000, val_acc: 0.6898\n",
      "Epoch 41, CIFAR-10 Batch 2:  cost: 0.0195, acc: 1.0000, val_acc: 0.7012\n",
      "Epoch 41, CIFAR-10 Batch 3:  cost: 0.0147, acc: 1.0000, val_acc: 0.6936\n",
      "Epoch 41, CIFAR-10 Batch 4:  cost: 0.0256, acc: 1.0000, val_acc: 0.6928\n",
      "Epoch 41, CIFAR-10 Batch 5:  cost: 0.0210, acc: 1.0000, val_acc: 0.6804\n",
      "Epoch 42, CIFAR-10 Batch 1:  cost: 0.0375, acc: 1.0000, val_acc: 0.7026\n",
      "Epoch 42, CIFAR-10 Batch 2:  cost: 0.0166, acc: 1.0000, val_acc: 0.6976\n",
      "Epoch 42, CIFAR-10 Batch 3:  cost: 0.0146, acc: 1.0000, val_acc: 0.6964\n",
      "Epoch 42, CIFAR-10 Batch 4:  cost: 0.0200, acc: 1.0000, val_acc: 0.6946\n",
      "Epoch 42, CIFAR-10 Batch 5:  cost: 0.0184, acc: 1.0000, val_acc: 0.6796\n",
      "Epoch 43, CIFAR-10 Batch 1:  cost: 0.0299, acc: 1.0000, val_acc: 0.6946\n",
      "Epoch 43, CIFAR-10 Batch 2:  cost: 0.0189, acc: 1.0000, val_acc: 0.6942\n",
      "Epoch 43, CIFAR-10 Batch 3:  cost: 0.0129, acc: 1.0000, val_acc: 0.6980\n",
      "Epoch 43, CIFAR-10 Batch 4:  cost: 0.0161, acc: 1.0000, val_acc: 0.6964\n",
      "Epoch 43, CIFAR-10 Batch 5:  cost: 0.0205, acc: 1.0000, val_acc: 0.6886\n",
      "Epoch 44, CIFAR-10 Batch 1:  cost: 0.0245, acc: 1.0000, val_acc: 0.6940\n",
      "Epoch 44, CIFAR-10 Batch 2:  cost: 0.0155, acc: 1.0000, val_acc: 0.6980\n",
      "Epoch 44, CIFAR-10 Batch 3:  cost: 0.0123, acc: 1.0000, val_acc: 0.6944\n",
      "Epoch 44, CIFAR-10 Batch 4:  cost: 0.0146, acc: 1.0000, val_acc: 0.6886\n",
      "Epoch 44, CIFAR-10 Batch 5:  cost: 0.0165, acc: 1.0000, val_acc: 0.6980\n",
      "Epoch 45, CIFAR-10 Batch 1:  cost: 0.0247, acc: 1.0000, val_acc: 0.6846\n",
      "Epoch 45, CIFAR-10 Batch 2:  cost: 0.0147, acc: 1.0000, val_acc: 0.6908\n",
      "Epoch 45, CIFAR-10 Batch 3:  cost: 0.0128, acc: 1.0000, val_acc: 0.6936\n",
      "Epoch 45, CIFAR-10 Batch 4:  cost: 0.0187, acc: 1.0000, val_acc: 0.6896\n",
      "Epoch 45, CIFAR-10 Batch 5:  cost: 0.0145, acc: 1.0000, val_acc: 0.6864\n",
      "Epoch 46, CIFAR-10 Batch 1:  cost: 0.0206, acc: 1.0000, val_acc: 0.6952\n",
      "Epoch 46, CIFAR-10 Batch 2:  cost: 0.0173, acc: 1.0000, val_acc: 0.6968\n",
      "Epoch 46, CIFAR-10 Batch 3:  cost: 0.0122, acc: 1.0000, val_acc: 0.6960\n"
     ]
    },
    {
     "name": "stdout",
     "output_type": "stream",
     "text": [
      "Epoch 46, CIFAR-10 Batch 4:  cost: 0.0097, acc: 1.0000, val_acc: 0.6928\n",
      "Epoch 46, CIFAR-10 Batch 5:  cost: 0.0125, acc: 1.0000, val_acc: 0.6880\n",
      "Epoch 47, CIFAR-10 Batch 1:  cost: 0.0224, acc: 1.0000, val_acc: 0.6890\n",
      "Epoch 47, CIFAR-10 Batch 2:  cost: 0.0123, acc: 1.0000, val_acc: 0.6918\n",
      "Epoch 47, CIFAR-10 Batch 3:  cost: 0.0078, acc: 1.0000, val_acc: 0.6898\n",
      "Epoch 47, CIFAR-10 Batch 4:  cost: 0.0122, acc: 1.0000, val_acc: 0.6908\n",
      "Epoch 47, CIFAR-10 Batch 5:  cost: 0.0125, acc: 1.0000, val_acc: 0.6896\n",
      "Epoch 48, CIFAR-10 Batch 1:  cost: 0.0181, acc: 1.0000, val_acc: 0.6876\n",
      "Epoch 48, CIFAR-10 Batch 2:  cost: 0.0125, acc: 1.0000, val_acc: 0.6952\n",
      "Epoch 48, CIFAR-10 Batch 3:  cost: 0.0090, acc: 1.0000, val_acc: 0.6998\n",
      "Epoch 48, CIFAR-10 Batch 4:  cost: 0.0102, acc: 1.0000, val_acc: 0.6936\n",
      "Epoch 48, CIFAR-10 Batch 5:  cost: 0.0092, acc: 1.0000, val_acc: 0.6938\n",
      "Epoch 49, CIFAR-10 Batch 1:  cost: 0.0119, acc: 1.0000, val_acc: 0.6910\n",
      "Epoch 49, CIFAR-10 Batch 2:  cost: 0.0129, acc: 1.0000, val_acc: 0.6934\n",
      "Epoch 49, CIFAR-10 Batch 3:  cost: 0.0075, acc: 1.0000, val_acc: 0.6944\n",
      "Epoch 49, CIFAR-10 Batch 4:  cost: 0.0107, acc: 1.0000, val_acc: 0.6852\n",
      "Epoch 49, CIFAR-10 Batch 5:  cost: 0.0128, acc: 1.0000, val_acc: 0.6914\n",
      "Epoch 50, CIFAR-10 Batch 1:  cost: 0.0149, acc: 1.0000, val_acc: 0.6822\n",
      "Epoch 50, CIFAR-10 Batch 2:  cost: 0.0127, acc: 1.0000, val_acc: 0.7010\n",
      "Epoch 50, CIFAR-10 Batch 3:  cost: 0.0102, acc: 1.0000, val_acc: 0.6958\n",
      "Epoch 50, CIFAR-10 Batch 4:  cost: 0.0112, acc: 1.0000, val_acc: 0.6880\n",
      "Epoch 50, CIFAR-10 Batch 5:  cost: 0.0105, acc: 1.0000, val_acc: 0.7022\n"
     ]
    }
   ],
   "source": [
    "\"\"\"\n",
    "DON'T MODIFY ANYTHING IN THIS CELL\n",
    "\"\"\"\n",
    "save_model_path = './image_classification'\n",
    "\n",
    "print('Training...')\n",
    "with tf.Session() as sess:\n",
    "    # Initializing the variables\n",
    "    sess.run(tf.global_variables_initializer())\n",
    "    \n",
    "    # Training cycle\n",
    "    for epoch in range(epochs):\n",
    "        # Loop over all batches\n",
    "        n_batches = 5\n",
    "        for batch_i in range(1, n_batches + 1):\n",
    "            for batch_features, batch_labels in helper.load_preprocess_training_batch(batch_i, batch_size):\n",
    "                train_neural_network(sess, optimizer, keep_probability, batch_features, batch_labels)\n",
    "            print('Epoch {:>2}, CIFAR-10 Batch {}:  '.format(epoch + 1, batch_i), end='')\n",
    "            print_stats(sess, batch_features, batch_labels, cost, accuracy)\n",
    "            \n",
    "    # Save Model\n",
    "    saver = tf.train.Saver()\n",
    "    save_path = saver.save(sess, save_model_path)"
   ]
  },
  {
   "cell_type": "markdown",
   "metadata": {},
   "source": [
    "# Checkpoint\n",
    "The model has been saved to disk.\n",
    "## Test Model\n",
    "Test your model against the test dataset.  This will be your final accuracy. You should have an accuracy greater than 50%. If you don't, keep tweaking the model architecture and parameters."
   ]
  },
  {
   "cell_type": "code",
   "execution_count": 57,
   "metadata": {},
   "outputs": [
    {
     "name": "stdout",
     "output_type": "stream",
     "text": [
      "INFO:tensorflow:Restoring parameters from ./image_classification\n",
      "Testing Accuracy: 0.6984375\n",
      "\n"
     ]
    },
    {
     "data": {
      "image/png": "[encoded data removed]",
      "text/plain": [
       "<matplotlib.figure.Figure at 0x7f6e68097b38>"
      ]
     },
     "metadata": {
      "image/png": {
       "height": 319,
       "width": 355
      }
     },
     "output_type": "display_data"
    }
   ],
   "source": [
    "\"\"\"\n",
    "DON'T MODIFY ANYTHING IN THIS CELL\n",
    "\"\"\"\n",
    "%matplotlib inline\n",
    "%config InlineBackend.figure_format = 'retina'\n",
    "\n",
    "import tensorflow as tf\n",
    "import pickle\n",
    "import helper\n",
    "import random\n",
    "\n",
    "# Set batch size if not already set\n",
    "try:\n",
    "    if batch_size:\n",
    "        pass\n",
    "except NameError:\n",
    "    batch_size = 64\n",
    "\n",
    "save_model_path = './image_classification'\n",
    "n_samples = 4\n",
    "top_n_predictions = 3\n",
    "\n",
    "def test_model():\n",
    "    \"\"\"\n",
    "    Test the saved model against the test dataset\n",
    "    \"\"\"\n",
    "\n",
    "    test_features, test_labels = pickle.load(open('preprocess_training.p', mode='rb'))\n",
    "    loaded_graph = tf.Graph()\n",
    "\n",
    "    with tf.Session(graph=loaded_graph) as sess:\n",
    "        # Load model\n",
    "        loader = tf.train.import_meta_graph(save_model_path + '.meta')\n",
    "        loader.restore(sess, save_model_path)\n",
    "\n",
    "        # Get Tensors from loaded model\n",
    "        loaded_x = loaded_graph.get_tensor_by_name('x:0')\n",
    "        loaded_y = loaded_graph.get_tensor_by_name('y:0')\n",
    "        loaded_keep_prob = loaded_graph.get_tensor_by_name('keep_prob:0')\n",
    "        loaded_logits = loaded_graph.get_tensor_by_name('logits:0')\n",
    "        loaded_acc = loaded_graph.get_tensor_by_name('accuracy:0')\n",
    "        \n",
    "        # Get accuracy in batches for memory limitations\n",
    "        test_batch_acc_total = 0\n",
    "        test_batch_count = 0\n",
    "        \n",
    "        for train_feature_batch, train_label_batch in helper.batch_features_labels(test_features, test_labels, batch_size):\n",
    "            test_batch_acc_total += sess.run(\n",
    "                loaded_acc,\n",
    "                feed_dict={loaded_x: train_feature_batch, loaded_y: train_label_batch, loaded_keep_prob: 1.0})\n",
    "            test_batch_count += 1\n",
    "\n",
    "        print('Testing Accuracy: {}\\n'.format(test_batch_acc_total/test_batch_count))\n",
    "\n",
    "        # Print Random Samples\n",
    "        random_test_features, random_test_labels = tuple(zip(*random.sample(list(zip(test_features, test_labels)), n_samples)))\n",
    "        random_test_predictions = sess.run(\n",
    "            tf.nn.top_k(tf.nn.softmax(loaded_logits), top_n_predictions),\n",
    "            feed_dict={loaded_x: random_test_features, loaded_y: random_test_labels, loaded_keep_prob: 1.0})\n",
    "        helper.display_image_predictions(random_test_features, random_test_labels, random_test_predictions)\n",
    "\n",
    "\n",
    "test_model()"
   ]
  },
  {
   "cell_type": "markdown",
   "metadata": {},
   "source": [
    "## Why 50-70% Accuracy?\n",
    "You might be wondering why you can't get an accuracy any higher. First things first, 50% isn't bad for a simple CNN.  Pure guessing would get you 10% accuracy. However, you might notice people are getting scores [well above 70%](http://rodrigob.github.io/are_we_there_yet/build/classification_datasets_results.html#43494641522d3130).  That's because we haven't taught you all there is to know about neural networks. We still need to cover a few more techniques.\n",
    "## Submitting This Project\n",
    "When submitting this project, make sure to run all the cells before saving the notebook.  Save the notebook file as \"dlnd_image_classification.ipynb\" and save it as a HTML file under \"File\" -> \"Download as\".  Include the \"helper.py\" and \"problem_unittests.py\" files in your submission."
   ]
  }
 ],
 "metadata": {
  "kernelspec": {
   "display_name": "Python 3",
   "language": "python",
   "name": "python3"
  }
 },
 "nbformat": 4,
 "nbformat_minor": 1
}
